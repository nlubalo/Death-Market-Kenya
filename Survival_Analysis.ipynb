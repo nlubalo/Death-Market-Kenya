{
 "cells": [
  {
   "cell_type": "code",
   "execution_count": 2,
   "metadata": {
    "collapsed": true
   },
   "outputs": [],
   "source": [
    "import pandas as pd\n",
    "import numpy as np\n",
    "from lifelines import KaplanMeierFitter\n"
   ]
  },
  {
   "cell_type": "code",
   "execution_count": 3,
   "metadata": {},
   "outputs": [
    {
     "data": {
      "text/html": [
       "<div>\n",
       "<style>\n",
       "    .dataframe thead tr:only-child th {\n",
       "        text-align: right;\n",
       "    }\n",
       "\n",
       "    .dataframe thead th {\n",
       "        text-align: left;\n",
       "    }\n",
       "\n",
       "    .dataframe tbody tr th {\n",
       "        vertical-align: top;\n",
       "    }\n",
       "</style>\n",
       "<table border=\"1\" class=\"dataframe\">\n",
       "  <thead>\n",
       "    <tr style=\"text-align: right;\">\n",
       "      <th></th>\n",
       "      <th>Name</th>\n",
       "      <th>Announcement</th>\n",
       "      <th>Burial</th>\n",
       "      <th>Burial_Day</th>\n",
       "      <th>Burial_Week</th>\n",
       "      <th>Gender</th>\n",
       "      <th>Color</th>\n",
       "      <th>Size</th>\n",
       "      <th>Word_Count</th>\n",
       "      <th>No_of_Children</th>\n",
       "      <th>Significant_Children</th>\n",
       "      <th>Significant_Relatives</th>\n",
       "      <th>Fundraising</th>\n",
       "      <th>Announce_to_Burial</th>\n",
       "      <th>No_of_Relatives</th>\n",
       "      <th>County_Burial</th>\n",
       "      <th>Married</th>\n",
       "    </tr>\n",
       "  </thead>\n",
       "  <tbody>\n",
       "    <tr>\n",
       "      <th>0</th>\n",
       "      <td>Eng. Paul Chemweno</td>\n",
       "      <td>2017-11-08 00:00:00</td>\n",
       "      <td>2017-11-17</td>\n",
       "      <td>0</td>\n",
       "      <td>0</td>\n",
       "      <td>1</td>\n",
       "      <td>1</td>\n",
       "      <td>55.18</td>\n",
       "      <td>179</td>\n",
       "      <td>7.0</td>\n",
       "      <td>0.0</td>\n",
       "      <td>0.0</td>\n",
       "      <td>1</td>\n",
       "      <td>9</td>\n",
       "      <td>35</td>\n",
       "      <td>37</td>\n",
       "      <td>1</td>\n",
       "    </tr>\n",
       "    <tr>\n",
       "      <th>1</th>\n",
       "      <td>Edith Kiende Kiogora</td>\n",
       "      <td>2017-11-08 00:00:00</td>\n",
       "      <td>2017-11-11</td>\n",
       "      <td>2</td>\n",
       "      <td>1</td>\n",
       "      <td>0</td>\n",
       "      <td>1</td>\n",
       "      <td>83.60</td>\n",
       "      <td>293</td>\n",
       "      <td>4.0</td>\n",
       "      <td>0.0</td>\n",
       "      <td>7.0</td>\n",
       "      <td>1</td>\n",
       "      <td>3</td>\n",
       "      <td>8</td>\n",
       "      <td>35</td>\n",
       "      <td>1</td>\n",
       "    </tr>\n",
       "    <tr>\n",
       "      <th>2</th>\n",
       "      <td>Simon Muchiri Ngigii Mbaria</td>\n",
       "      <td>2017-11-08 00:00:00</td>\n",
       "      <td>2017-11-08</td>\n",
       "      <td>6</td>\n",
       "      <td>0</td>\n",
       "      <td>1</td>\n",
       "      <td>1</td>\n",
       "      <td>109.12</td>\n",
       "      <td>206</td>\n",
       "      <td>4.0</td>\n",
       "      <td>0.0</td>\n",
       "      <td>2.0</td>\n",
       "      <td>0</td>\n",
       "      <td>0</td>\n",
       "      <td>7</td>\n",
       "      <td>30</td>\n",
       "      <td>1</td>\n",
       "    </tr>\n",
       "    <tr>\n",
       "      <th>3</th>\n",
       "      <td>Mwalimu Erick Namusasi Werunga</td>\n",
       "      <td>2017-11-08 00:00:00</td>\n",
       "      <td>2017-11-09</td>\n",
       "      <td>4</td>\n",
       "      <td>0</td>\n",
       "      <td>1</td>\n",
       "      <td>1</td>\n",
       "      <td>83.60</td>\n",
       "      <td>171</td>\n",
       "      <td>4.0</td>\n",
       "      <td>0.0</td>\n",
       "      <td>0.0</td>\n",
       "      <td>0</td>\n",
       "      <td>1</td>\n",
       "      <td>33</td>\n",
       "      <td>36</td>\n",
       "      <td>1</td>\n",
       "    </tr>\n",
       "    <tr>\n",
       "      <th>4</th>\n",
       "      <td>Maritha Mwendwa Mbui (Kaka)</td>\n",
       "      <td>2017-11-08 00:00:00</td>\n",
       "      <td>2017-11-09</td>\n",
       "      <td>4</td>\n",
       "      <td>0</td>\n",
       "      <td>0</td>\n",
       "      <td>1</td>\n",
       "      <td>55.18</td>\n",
       "      <td>174</td>\n",
       "      <td>4.0</td>\n",
       "      <td>1.0</td>\n",
       "      <td>7.0</td>\n",
       "      <td>0</td>\n",
       "      <td>1</td>\n",
       "      <td>19</td>\n",
       "      <td>21</td>\n",
       "      <td>1</td>\n",
       "    </tr>\n",
       "  </tbody>\n",
       "</table>\n",
       "</div>"
      ],
      "text/plain": [
       "                             Name         Announcement      Burial  \\\n",
       "0              Eng. Paul Chemweno  2017-11-08 00:00:00  2017-11-17   \n",
       "1            Edith Kiende Kiogora  2017-11-08 00:00:00  2017-11-11   \n",
       "2     Simon Muchiri Ngigii Mbaria  2017-11-08 00:00:00  2017-11-08   \n",
       "3  Mwalimu Erick Namusasi Werunga  2017-11-08 00:00:00  2017-11-09   \n",
       "4     Maritha Mwendwa Mbui (Kaka)  2017-11-08 00:00:00  2017-11-09   \n",
       "\n",
       "   Burial_Day  Burial_Week  Gender  Color    Size  Word_Count  No_of_Children  \\\n",
       "0           0            0       1      1   55.18         179             7.0   \n",
       "1           2            1       0      1   83.60         293             4.0   \n",
       "2           6            0       1      1  109.12         206             4.0   \n",
       "3           4            0       1      1   83.60         171             4.0   \n",
       "4           4            0       0      1   55.18         174             4.0   \n",
       "\n",
       "   Significant_Children  Significant_Relatives  Fundraising  \\\n",
       "0                   0.0                    0.0            1   \n",
       "1                   0.0                    7.0            1   \n",
       "2                   0.0                    2.0            0   \n",
       "3                   0.0                    0.0            0   \n",
       "4                   1.0                    7.0            0   \n",
       "\n",
       "   Announce_to_Burial  No_of_Relatives  County_Burial  Married  \n",
       "0                   9               35             37        1  \n",
       "1                   3                8             35        1  \n",
       "2                   0                7             30        1  \n",
       "3                   1               33             36        1  \n",
       "4                   1               19             21        1  "
      ]
     },
     "execution_count": 3,
     "metadata": {},
     "output_type": "execute_result"
    }
   ],
   "source": [
    "data_df =pd.read_csv('cleaned_data.csv')\n",
    "data_df = data_df.drop(['Unnamed: 0'], axis=1)\n",
    "data_df.head()"
   ]
  },
  {
   "cell_type": "markdown",
   "metadata": {},
   "source": [
    "### Create a Kaplan-meier survival curve\n",
    "\n",
    "I will use a lifetime of the period from when the death announcement is made to the time a person is buried: <br>\n",
    "Birth event:  Announcement made<br>\n",
    "Death event:  buried <br>\n",
    "\n",
    "\n",
    "\n"
   ]
  },
  {
   "cell_type": "code",
   "execution_count": 4,
   "metadata": {
    "collapsed": true
   },
   "outputs": [],
   "source": [
    "dropped=data_df[data_df['Announce_to_Burial']>90]\n",
    "dropped_=dropped.index\n",
    "data_df=data_df.drop(dropped_)"
   ]
  },
  {
   "cell_type": "code",
   "execution_count": 5,
   "metadata": {
    "collapsed": true
   },
   "outputs": [],
   "source": [
    "dropped=data_df[data_df['Announce_to_Burial']<0]\n",
    "dropped_=dropped.index\n",
    "data_df=data_df.drop(dropped_) "
   ]
  },
  {
   "cell_type": "code",
   "execution_count": null,
   "metadata": {
    "collapsed": true
   },
   "outputs": [],
   "source": []
  },
  {
   "cell_type": "code",
   "execution_count": 65,
   "metadata": {},
   "outputs": [
    {
     "data": {
      "text/plain": [
       "(831, 17)"
      ]
     },
     "execution_count": 65,
     "metadata": {},
     "output_type": "execute_result"
    }
   ],
   "source": [
    "data_df.shape"
   ]
  },
  {
   "cell_type": "code",
   "execution_count": 6,
   "metadata": {},
   "outputs": [
    {
     "data": {
      "text/plain": [
       "array([ 9,  3,  0,  1,  2,  4,  8,  5,  7, 12, 32, 10,  6, 19, 13, 16, 11,\n",
       "       15, 14, 18, 20, 23, 30, 33])"
      ]
     },
     "execution_count": 6,
     "metadata": {},
     "output_type": "execute_result"
    }
   ],
   "source": [
    "km = KaplanMeierFitter()\n",
    "T= data_df['Announce_to_Burial']\n",
    "C= data_df['Fundraising']\n",
    "km.fit(T,C)\n",
    "T.unique()"
   ]
  },
  {
   "cell_type": "code",
   "execution_count": 12,
   "metadata": {},
   "outputs": [
    {
     "name": "stdout",
     "output_type": "stream",
     "text": [
      "Populating the interactive namespace from numpy and matplotlib\n"
     ]
    },
    {
     "data": {
      "image/png": "[encoded data removed]",
      "text/plain": [
       "<matplotlib.figure.Figure at 0x7f940f195da0>"
      ]
     },
     "metadata": {},
     "output_type": "display_data"
    }
   ],
   "source": [
    "%pylab inline\n",
    "figsize(12,6)\n",
    "km.plot()\n",
    "plt.title(\"Fundraising survival Curve\", fontsize = 15)\n",
    "plt.ylabel(\"Fundraising_probability\", fontsize = 15)\n",
    "plt.xlabel('Timeline (Days)', fontsize = 15);\n"
   ]
  },
  {
   "cell_type": "code",
   "execution_count": 68,
   "metadata": {},
   "outputs": [
    {
     "name": "stdout",
     "output_type": "stream",
     "text": [
      "Populating the interactive namespace from numpy and matplotlib\n"
     ]
    },
    {
     "data": {
      "text/plain": [
       "<matplotlib.axes._subplots.AxesSubplot at 0x7f7f41ecc208>"
      ]
     },
     "execution_count": 68,
     "metadata": {},
     "output_type": "execute_result"
    },
    {
     "data": {
      "image/png": "[encoded data removed]",
      "text/plain": [
       "<matplotlib.figure.Figure at 0x7f7f41f4fb00>"
      ]
     },
     "metadata": {},
     "output_type": "display_data"
    }
   ],
   "source": [
    "C1= data_df['Color']\n",
    "km.fit(T,C1)\n",
    "%pylab inline\n",
    "figsize(12,6)\n",
    "km.plot()"
   ]
  }
 ],
 "metadata": {
  "kernelspec": {
   "display_name": "Python 3",
   "language": "python",
   "name": "python3"
  },
  "language_info": {
   "codemirror_mode": {
    "name": "ipython",
    "version": 3
   },
   "file_extension": ".py",
   "mimetype": "text/x-python",
   "name": "python",
   "nbconvert_exporter": "python",
   "pygments_lexer": "ipython3",
   "version": "3.6.3"
  }
 },
 "nbformat": 4,
 "nbformat_minor": 2
}
