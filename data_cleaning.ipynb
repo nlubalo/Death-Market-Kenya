{
 "cells": [
  {
   "cell_type": "markdown",
   "metadata": {},
   "source": [
    "\n",
    "You have been provided with data on mortality in Kenya. This data can be useful in informing products for life insurance products. There are several analysis that can be conducted to enable  make better decisions for creating and marketing of life insurance products. These analyses will form part of your interview.\n",
    "\n",
    "Tasks\n",
    "(1). Create a Kaplan-meier survival curve using one of the following variables; gender, colour, fundraising, spouse alive, spouse gender. Explain the difference/significance of the result. \n",
    "\n",
    "(2). Predict deaths that are likely to need fundraising. Use algorithm of your own choice. Include the confusion matrix, F1 score, sensitivity, and specificity.\n",
    "\n",
    "The tasks should be undertaken in R or Python. Create a GitHub repo to push the code used in the interview tasks. All explanations and graphs should go into the README file. After completion of task, send back the link of repo. If you have any clarification question feel free to email back. The deadline for submitting the task is 22nd December at 5:00 pm - you can send back earlier if you are done "
   ]
  },
  {
   "cell_type": "code",
   "execution_count": 84,
   "metadata": {
    "collapsed": true
   },
   "outputs": [],
   "source": [
    "import pandas as pd\n",
    "import numpy as np\n",
    "import re\n",
    "\n",
    "import seaborn as sns\n",
    "from matplotlib import pyplot as plt\n",
    "from sklearn.preprocessing import LabelEncoder\n"
   ]
  },
  {
   "cell_type": "code",
   "execution_count": 85,
   "metadata": {},
   "outputs": [
    {
     "data": {
      "text/html": [
       "<div>\n",
       "<style>\n",
       "    .dataframe thead tr:only-child th {\n",
       "        text-align: right;\n",
       "    }\n",
       "\n",
       "    .dataframe thead th {\n",
       "        text-align: left;\n",
       "    }\n",
       "\n",
       "    .dataframe tbody tr th {\n",
       "        vertical-align: top;\n",
       "    }\n",
       "</style>\n",
       "<table border=\"1\" class=\"dataframe\">\n",
       "  <thead>\n",
       "    <tr style=\"text-align: right;\">\n",
       "      <th></th>\n",
       "      <th>Name</th>\n",
       "      <th>Announcement</th>\n",
       "      <th>Death</th>\n",
       "      <th>Burial</th>\n",
       "      <th>Burial_Day</th>\n",
       "      <th>Burial_Week</th>\n",
       "      <th>Gender</th>\n",
       "      <th>Age</th>\n",
       "      <th>Color</th>\n",
       "      <th>Size</th>\n",
       "      <th>...</th>\n",
       "      <th>Morgue</th>\n",
       "      <th>Same_Morgue</th>\n",
       "      <th>Cost_Morgue</th>\n",
       "      <th>Occupation</th>\n",
       "      <th>Repetition</th>\n",
       "      <th>Corporate</th>\n",
       "      <th>Corporate_Name</th>\n",
       "      <th>Residence</th>\n",
       "      <th>Residence_Name</th>\n",
       "      <th>Residence_Category</th>\n",
       "    </tr>\n",
       "  </thead>\n",
       "  <tbody>\n",
       "    <tr>\n",
       "      <th>0</th>\n",
       "      <td>Eng. Paul Chemweno</td>\n",
       "      <td>11/8/2017</td>\n",
       "      <td>11/2/2017</td>\n",
       "      <td>11/17/2017</td>\n",
       "      <td>Friday</td>\n",
       "      <td>Weekday</td>\n",
       "      <td>Male</td>\n",
       "      <td>66.0</td>\n",
       "      <td>Yes</td>\n",
       "      <td>55.18</td>\n",
       "      <td>...</td>\n",
       "      <td>MTRH Eldoret</td>\n",
       "      <td>No</td>\n",
       "      <td>NaN</td>\n",
       "      <td>Director</td>\n",
       "      <td>NaN</td>\n",
       "      <td>NaN</td>\n",
       "      <td>NaN</td>\n",
       "      <td>NaN</td>\n",
       "      <td>NaN</td>\n",
       "      <td>NaN</td>\n",
       "    </tr>\n",
       "    <tr>\n",
       "      <th>1</th>\n",
       "      <td>Edith Kiende Kiogora</td>\n",
       "      <td>11/8/2017</td>\n",
       "      <td>10/27/2017</td>\n",
       "      <td>11/11/2017</td>\n",
       "      <td>Saturday</td>\n",
       "      <td>Weekend</td>\n",
       "      <td>Female</td>\n",
       "      <td>43.0</td>\n",
       "      <td>Yes</td>\n",
       "      <td>83.60</td>\n",
       "      <td>...</td>\n",
       "      <td>Chogoria Hospital Mortuary</td>\n",
       "      <td>No</td>\n",
       "      <td>NaN</td>\n",
       "      <td>Teacher</td>\n",
       "      <td>NaN</td>\n",
       "      <td>NaN</td>\n",
       "      <td>NaN</td>\n",
       "      <td>NaN</td>\n",
       "      <td>NaN</td>\n",
       "      <td>NaN</td>\n",
       "    </tr>\n",
       "  </tbody>\n",
       "</table>\n",
       "<p>2 rows × 39 columns</p>\n",
       "</div>"
      ],
      "text/plain": [
       "                   Name Announcement       Death      Burial Burial_Day  \\\n",
       "0    Eng. Paul Chemweno    11/8/2017   11/2/2017  11/17/2017     Friday   \n",
       "1  Edith Kiende Kiogora    11/8/2017  10/27/2017  11/11/2017   Saturday   \n",
       "\n",
       "  Burial_Week  Gender   Age Color   Size        ...          \\\n",
       "0     Weekday    Male  66.0   Yes  55.18        ...           \n",
       "1     Weekend  Female  43.0   Yes  83.60        ...           \n",
       "\n",
       "                       Morgue  Same_Morgue  Cost_Morgue  Occupation  \\\n",
       "0                MTRH Eldoret           No          NaN    Director   \n",
       "1  Chogoria Hospital Mortuary           No          NaN     Teacher   \n",
       "\n",
       "  Repetition Corporate Corporate_Name Residence Residence_Name  \\\n",
       "0        NaN       NaN            NaN       NaN            NaN   \n",
       "1        NaN       NaN            NaN       NaN            NaN   \n",
       "\n",
       "  Residence_Category  \n",
       "0                NaN  \n",
       "1                NaN  \n",
       "\n",
       "[2 rows x 39 columns]"
      ]
     },
     "execution_count": 85,
     "metadata": {},
     "output_type": "execute_result"
    }
   ],
   "source": [
    "data_df = pd.read_csv('Obituaries_Dataset.csv')\n",
    "data_df.head(2)\n",
    "#data_df = data_df.dropna()"
   ]
  },
  {
   "cell_type": "code",
   "execution_count": 86,
   "metadata": {},
   "outputs": [
    {
     "data": {
      "text/plain": [
       "(1291, 39)"
      ]
     },
     "execution_count": 86,
     "metadata": {},
     "output_type": "execute_result"
    }
   ],
   "source": [
    "data_df.shape"
   ]
  },
  {
   "cell_type": "code",
   "execution_count": 87,
   "metadata": {},
   "outputs": [
    {
     "data": {
      "text/plain": [
       "Index(['Name', 'Announcement', 'Death', 'Burial', 'Burial_Day', 'Burial_Week',\n",
       "       'Gender', 'Age', 'Color', 'Size', 'Word_Count', 'No_of_Children',\n",
       "       'Significant_Children', 'Significant_Relatives', 'Fundraising',\n",
       "       'Death_to_Announce', 'Death_to_Burial', 'Announce_to_Burial',\n",
       "       'No_of_Relatives', 'County_Burial', 'County_Death', 'County_Morgue',\n",
       "       'Distance_Death', 'Distance_Morgue', 'Cause_of_Death', 'Married',\n",
       "       'Spouse_Alive', 'Spouse_gender', 'Hospital', 'Morgue', 'Same_Morgue',\n",
       "       'Cost_Morgue', 'Occupation', 'Repetition', 'Corporate',\n",
       "       'Corporate_Name', 'Residence', 'Residence_Name', 'Residence_Category'],\n",
       "      dtype='object')"
      ]
     },
     "execution_count": 87,
     "metadata": {},
     "output_type": "execute_result"
    }
   ],
   "source": [
    "data_df.columns"
   ]
  },
  {
   "cell_type": "code",
   "execution_count": 88,
   "metadata": {},
   "outputs": [
    {
     "data": {
      "text/html": [
       "<div>\n",
       "<style>\n",
       "    .dataframe thead tr:only-child th {\n",
       "        text-align: right;\n",
       "    }\n",
       "\n",
       "    .dataframe thead th {\n",
       "        text-align: left;\n",
       "    }\n",
       "\n",
       "    .dataframe tbody tr th {\n",
       "        vertical-align: top;\n",
       "    }\n",
       "</style>\n",
       "<table border=\"1\" class=\"dataframe\">\n",
       "  <thead>\n",
       "    <tr style=\"text-align: right;\">\n",
       "      <th></th>\n",
       "      <th>Age</th>\n",
       "      <th>Size</th>\n",
       "      <th>No_of_Children</th>\n",
       "      <th>Significant_Children</th>\n",
       "      <th>Significant_Relatives</th>\n",
       "    </tr>\n",
       "  </thead>\n",
       "  <tbody>\n",
       "    <tr>\n",
       "      <th>count</th>\n",
       "      <td>507.000000</td>\n",
       "      <td>1237.000000</td>\n",
       "      <td>1093.000000</td>\n",
       "      <td>1092.000000</td>\n",
       "      <td>1083.000000</td>\n",
       "    </tr>\n",
       "    <tr>\n",
       "      <th>mean</th>\n",
       "      <td>65.422091</td>\n",
       "      <td>88.341496</td>\n",
       "      <td>5.484904</td>\n",
       "      <td>1.011905</td>\n",
       "      <td>7.337950</td>\n",
       "    </tr>\n",
       "    <tr>\n",
       "      <th>std</th>\n",
       "      <td>20.492632</td>\n",
       "      <td>55.520239</td>\n",
       "      <td>4.319116</td>\n",
       "      <td>1.848240</td>\n",
       "      <td>12.351233</td>\n",
       "    </tr>\n",
       "    <tr>\n",
       "      <th>min</th>\n",
       "      <td>1.000000</td>\n",
       "      <td>53.430000</td>\n",
       "      <td>0.000000</td>\n",
       "      <td>0.000000</td>\n",
       "      <td>0.000000</td>\n",
       "    </tr>\n",
       "    <tr>\n",
       "      <th>25%</th>\n",
       "      <td>51.000000</td>\n",
       "      <td>56.070000</td>\n",
       "      <td>3.000000</td>\n",
       "      <td>0.000000</td>\n",
       "      <td>0.000000</td>\n",
       "    </tr>\n",
       "    <tr>\n",
       "      <th>50%</th>\n",
       "      <td>68.000000</td>\n",
       "      <td>68.640000</td>\n",
       "      <td>4.000000</td>\n",
       "      <td>0.000000</td>\n",
       "      <td>2.000000</td>\n",
       "    </tr>\n",
       "    <tr>\n",
       "      <th>75%</th>\n",
       "      <td>81.500000</td>\n",
       "      <td>104.680000</td>\n",
       "      <td>8.000000</td>\n",
       "      <td>2.000000</td>\n",
       "      <td>8.000000</td>\n",
       "    </tr>\n",
       "    <tr>\n",
       "      <th>max</th>\n",
       "      <td>117.000000</td>\n",
       "      <td>880.000000</td>\n",
       "      <td>30.000000</td>\n",
       "      <td>12.000000</td>\n",
       "      <td>79.000000</td>\n",
       "    </tr>\n",
       "  </tbody>\n",
       "</table>\n",
       "</div>"
      ],
      "text/plain": [
       "              Age         Size  No_of_Children  Significant_Children  \\\n",
       "count  507.000000  1237.000000     1093.000000           1092.000000   \n",
       "mean    65.422091    88.341496        5.484904              1.011905   \n",
       "std     20.492632    55.520239        4.319116              1.848240   \n",
       "min      1.000000    53.430000        0.000000              0.000000   \n",
       "25%     51.000000    56.070000        3.000000              0.000000   \n",
       "50%     68.000000    68.640000        4.000000              0.000000   \n",
       "75%     81.500000   104.680000        8.000000              2.000000   \n",
       "max    117.000000   880.000000       30.000000             12.000000   \n",
       "\n",
       "       Significant_Relatives  \n",
       "count            1083.000000  \n",
       "mean                7.337950  \n",
       "std                12.351233  \n",
       "min                 0.000000  \n",
       "25%                 0.000000  \n",
       "50%                 2.000000  \n",
       "75%                 8.000000  \n",
       "max                79.000000  "
      ]
     },
     "execution_count": 88,
     "metadata": {},
     "output_type": "execute_result"
    }
   ],
   "source": [
    "data_df.describe()\n"
   ]
  },
  {
   "cell_type": "markdown",
   "metadata": {},
   "source": [
    "## Lets go through the features of the data and understand them "
   ]
  },
  {
   "cell_type": "markdown",
   "metadata": {},
   "source": [
    "Death_to_Announce\n",
    "Death_to_Burial\n",
    "Announce_to_Burial"
   ]
  },
  {
   "cell_type": "code",
   "execution_count": null,
   "metadata": {
    "collapsed": true
   },
   "outputs": [],
   "source": []
  },
  {
   "cell_type": "markdown",
   "metadata": {},
   "source": [
    "### Categorical "
   ]
  },
  {
   "cell_type": "code",
   "execution_count": 89,
   "metadata": {},
   "outputs": [
    {
     "data": {
      "text/plain": [
       "array([nan, 'No', 'Yes', 'None', 'yes'], dtype=object)"
      ]
     },
     "execution_count": 89,
     "metadata": {},
     "output_type": "execute_result"
    }
   ],
   "source": [
    "data_df.Residence.unique()"
   ]
  },
  {
   "cell_type": "markdown",
   "metadata": {},
   "source": [
    "There is a case problem with data entry for the Residence column which we will need to handle during data cleaning"
   ]
  },
  {
   "cell_type": "code",
   "execution_count": 90,
   "metadata": {},
   "outputs": [
    {
     "data": {
      "text/plain": [
       "array([nan, 'None', 'Middle', 'Rural', 'Low', 'High'], dtype=object)"
      ]
     },
     "execution_count": 90,
     "metadata": {},
     "output_type": "execute_result"
    }
   ],
   "source": [
    "data_df.Residence_Category.unique()"
   ]
  },
  {
   "cell_type": "code",
   "execution_count": 91,
   "metadata": {},
   "outputs": [
    {
     "data": {
      "text/plain": [
       "array(['Friday', 'Saturday', 'Wednesday', 'Thursday', 'Tuesday', 'Monday',\n",
       "       nan, 'Sunday', 'saturday'], dtype=object)"
      ]
     },
     "execution_count": 91,
     "metadata": {},
     "output_type": "execute_result"
    }
   ],
   "source": [
    "data_df.Burial_Day.unique()"
   ]
  },
  {
   "cell_type": "code",
   "execution_count": 92,
   "metadata": {},
   "outputs": [
    {
     "data": {
      "text/plain": [
       "array(['Weekday', 'Weekend', 'Weekeday', nan, 'weekend', 'weekday',\n",
       "       'Weeekday'], dtype=object)"
      ]
     },
     "execution_count": 92,
     "metadata": {},
     "output_type": "execute_result"
    }
   ],
   "source": [
    "data_df.Burial_Week.unique()"
   ]
  },
  {
   "cell_type": "markdown",
   "metadata": {},
   "source": [
    "There is a case and spelling problem with data entry for the week day column which we will need to handle during data cleaning"
   ]
  },
  {
   "cell_type": "code",
   "execution_count": 93,
   "metadata": {},
   "outputs": [
    {
     "data": {
      "text/plain": [
       "array(['Male', 'Female'], dtype=object)"
      ]
     },
     "execution_count": 93,
     "metadata": {},
     "output_type": "execute_result"
    }
   ],
   "source": [
    "data_df.Gender.unique()"
   ]
  },
  {
   "cell_type": "code",
   "execution_count": 94,
   "metadata": {},
   "outputs": [
    {
     "data": {
      "text/plain": [
       "array(['Yes', nan, 'No', 'yes', 'no'], dtype=object)"
      ]
     },
     "execution_count": 94,
     "metadata": {},
     "output_type": "execute_result"
    }
   ],
   "source": [
    "data_df.Married.unique()"
   ]
  },
  {
   "cell_type": "markdown",
   "metadata": {},
   "source": [
    "There is a case problem with data entry for the married column which we will need to handle during data cleaning"
   ]
  },
  {
   "cell_type": "code",
   "execution_count": 95,
   "metadata": {},
   "outputs": [
    {
     "data": {
      "text/plain": [
       "array(['Yes', 'No', nan, 'None'], dtype=object)"
      ]
     },
     "execution_count": 95,
     "metadata": {},
     "output_type": "execute_result"
    }
   ],
   "source": [
    "data_df.Spouse_Alive.unique()"
   ]
  },
  {
   "cell_type": "code",
   "execution_count": 96,
   "metadata": {},
   "outputs": [
    {
     "data": {
      "text/plain": [
       "array(['No', nan, 'Yes', 'no', 'yes', 'YES',\n",
       "       'Nyahururu Referral Mortuary', 'Montezuma Fun eral Home', 'uYes'],\n",
       "      dtype=object)"
      ]
     },
     "execution_count": 96,
     "metadata": {},
     "output_type": "execute_result"
    }
   ],
   "source": [
    "data_df.Same_Morgue.unique()"
   ]
  },
  {
   "cell_type": "markdown",
   "metadata": {},
   "source": [
    "There is a case problem with data entry for the Same_Morgue column which we will need to handle during data cleaning"
   ]
  },
  {
   "cell_type": "code",
   "execution_count": 97,
   "metadata": {},
   "outputs": [
    {
     "data": {
      "text/plain": [
       "array(['Yes', 'No', 'yes', 'no', nan], dtype=object)"
      ]
     },
     "execution_count": 97,
     "metadata": {},
     "output_type": "execute_result"
    }
   ],
   "source": [
    "data_df.Color.unique()"
   ]
  },
  {
   "cell_type": "markdown",
   "metadata": {},
   "source": [
    "There is a case problem with data entry for the Color column which we will need to handle during data cleaning"
   ]
  },
  {
   "cell_type": "code",
   "execution_count": 98,
   "metadata": {},
   "outputs": [
    {
     "data": {
      "text/plain": [
       "array(['Uasin Gishu', 'Nairobi', 'Nyandarua', nan, 'Abroad', 'Embu',\n",
       "       'Nyeri', 'Migori', \"Murang'a\", 'Nyahururu', 'Nakuru', 'Homa Bay',\n",
       "       'Kiambu', 'Laikipia', 'Kisumu', 'Kisii', 'Machakos', 'Makueni',\n",
       "       'Mombasa', 'Kajiado', 'Garissa', 'Tana River', 'Siaya', 'Kakamega',\n",
       "       'Nyamira', 'Kitui', 'Trans Nzioa', 'Kericho', 'Kirinyaga', 'Meru',\n",
       "       'Naivasha', 'Narok', 'Vihiga', 'Bungoma', 'Isiolo', 'Bomet',\n",
       "       'Baringo'], dtype=object)"
      ]
     },
     "execution_count": 98,
     "metadata": {},
     "output_type": "execute_result"
    }
   ],
   "source": [
    "data_df.County_Death.unique()"
   ]
  },
  {
   "cell_type": "code",
   "execution_count": 99,
   "metadata": {},
   "outputs": [
    {
     "data": {
      "text/plain": [
       "array(['Uasin Gishu', 'Tharaka Nithi', 'Nyandarua', 'Trans Nzioa',\n",
       "       'Machakos', 'Meru', 'Nyamira', 'Nairobi', 'Bungoma', 'Bomet',\n",
       "       'Nyeri', 'Kisumu', \"Murang'a\", 'Embu', 'Kajiado', 'Kiambu',\n",
       "       'Tana River', 'Kakamega', 'Nakuru', 'Homa Bay', 'Busia', 'Migori',\n",
       "       'Taita Taveta', 'Vihiga', 'Kisii', 'Makueni', nan, 'Kirinyaga',\n",
       "       'Laikipia', 'Siaya', 'Baringo', 'Kitui', 'Kilifi', 'Nandi',\n",
       "       'Kericho', 'Elgeyo Marakwet', 'Narok', 'Abroad', 'Mombasa',\n",
       "       'kakamega', 'siaya', 'Isiolo'], dtype=object)"
      ]
     },
     "execution_count": 99,
     "metadata": {},
     "output_type": "execute_result"
    }
   ],
   "source": [
    "data_df.County_Burial.unique()"
   ]
  },
  {
   "cell_type": "code",
   "execution_count": 100,
   "metadata": {},
   "outputs": [
    {
     "data": {
      "text/plain": [
       "array(['Uasin Gishu', 'Tharaka Nithi', 'Nakuru', 'Trans Nzioa', nan,\n",
       "       'Meru', 'Nairobi', 'Nyeri', 'Embu', 'Shalom Hospital', 'Nyandarua',\n",
       "       'Kiambu', 'Mombasa', 'Kenyatta University', 'Migori', 'Nyeri ',\n",
       "       \"Murang'a\", 'Laikipia', 'Machakos', 'Kisii', 'Kakamega', 'Kilifi',\n",
       "       'Kisumu', 'Kirinyaga', 'Homa Bay', 'Kajiado', 'Kericho', 'Vihiga',\n",
       "       'Kitui', 'Baringo', 'Narok', 'Tana River', 'Bungoma', 'Homabay',\n",
       "       'Nyamira', 'Suba', 'Siaya', 'Bomet', 'Busia', 'Transzoia',\n",
       "       'Muranga', 'Makueni', 'Nyahururu', 'Uasin gishu', 'Kensington',\n",
       "       'UK', 'Tharaka nithi', 'Nandi', 'meru', 'vihiga', 'Isiolo',\n",
       "       'Abroad', 'KIambu'], dtype=object)"
      ]
     },
     "execution_count": 100,
     "metadata": {},
     "output_type": "execute_result"
    }
   ],
   "source": [
    "data_df.County_Morgue.unique()"
   ]
  },
  {
   "cell_type": "code",
   "execution_count": 101,
   "metadata": {},
   "outputs": [
    {
     "data": {
      "text/plain": [
       "array(['illness', 'accident', nan, 'Accident', 'Illness', 'ilness',\n",
       "       'road accident', 'cancer', 'heart failure', 'fire accident'],\n",
       "      dtype=object)"
      ]
     },
     "execution_count": 101,
     "metadata": {},
     "output_type": "execute_result"
    }
   ],
   "source": [
    "data_df.Cause_of_Death.unique()"
   ]
  },
  {
   "cell_type": "code",
   "execution_count": 102,
   "metadata": {},
   "outputs": [
    {
     "data": {
      "text/plain": [
       "array([nan, 'No', 'Yes', 'Ministry'], dtype=object)"
      ]
     },
     "execution_count": 102,
     "metadata": {},
     "output_type": "execute_result"
    }
   ],
   "source": [
    "data_df.Corporate.unique()"
   ]
  },
  {
   "cell_type": "markdown",
   "metadata": {},
   "source": [
    "### Numeric \n",
    "Age <br>\n",
    "Size <br>\n",
    "Significant_Children<br>\n",
    "No_of_Children<br>\n",
    "Significant_Relatives<br>\n",
    "Death_to_Burial<br>\n",
    "Death_to_Announce<br>\n",
    "Announce_to_Burial<br>\n",
    "No_of_Relatives<br>\n",
    "No_of_Relatives<br>"
   ]
  },
  {
   "cell_type": "markdown",
   "metadata": {},
   "source": [
    "### Text Variable \n",
    "Name<br>\n",
    "Morgue<br>\n",
    "Occupation<br>\n",
    "Corporate_Name<br>"
   ]
  },
  {
   "cell_type": "markdown",
   "metadata": {},
   "source": [
    "### Date\n",
    "Announcement<br>\n",
    "Death<br>\n",
    "Burial"
   ]
  },
  {
   "cell_type": "code",
   "execution_count": null,
   "metadata": {
    "collapsed": true
   },
   "outputs": [],
   "source": []
  },
  {
   "cell_type": "markdown",
   "metadata": {},
   "source": [
    "# Data cleaning\n"
   ]
  },
  {
   "cell_type": "markdown",
   "metadata": {},
   "source": [
    "### 1. Missing data"
   ]
  },
  {
   "cell_type": "markdown",
   "metadata": {},
   "source": [
    "###### Perctange of missing data for each feature"
   ]
  },
  {
   "cell_type": "code",
   "execution_count": 103,
   "metadata": {
    "collapsed": true
   },
   "outputs": [],
   "source": [
    "def get_NaN_percent(data_df):\n",
    "    \"\"\"\n",
    "    get the percenatge of NaN fields in the features\n",
    "    \n",
    "    data_df: dataframe\n",
    "    \"\"\"\n",
    "    total = data_df.isnull().sum().sort_values(ascending = False)\n",
    "    percent = round(data_df.isnull().sum().sort_values(ascending = False)/len(data_df)*100, 2)\n",
    "    NaN_percent=pd.concat([total, percent], axis = 1,keys= ['Total', 'Percent'])\n",
    "    return NaN_percent"
   ]
  },
  {
   "cell_type": "code",
   "execution_count": 104,
   "metadata": {},
   "outputs": [
    {
     "data": {
      "image/png": "[encoded data removed]",
      "text/plain": [
       "<matplotlib.figure.Figure at 0x7fc646856a20>"
      ]
     },
     "metadata": {},
     "output_type": "display_data"
    }
   ],
   "source": [
    "NaN_percent =  get_NaN_percent(data_df)\n",
    "NaN_percent\n",
    "plott = NaN_percent[['Percent']]\n",
    "\n",
    "index_ = np.arange(len(plott))\n",
    "plt.figure(figsize=(20,8))\n",
    "plt.bar(index_, plott.Percent)\n",
    "\n",
    "plt.xlabel('Features', fontsize=15)\n",
    "plt.ylabel('% of Data Missing', fontsize=15)\n",
    "plt.xticks(index_, plott.index, fontsize=10, rotation=30)\n",
    "plt.title('Missing Data ', fontsize=25)\n",
    "plt.show()"
   ]
  },
  {
   "cell_type": "markdown",
   "metadata": {},
   "source": [
    "### Dropping features with more than 20% NaNs\n",
    "We have alot of missing NaNs in the data, the first attempt to cleaning this data is dropping all the features with more than 60% NaNs\n"
   ]
  },
  {
   "cell_type": "code",
   "execution_count": 105,
   "metadata": {
    "collapsed": true
   },
   "outputs": [],
   "source": [
    "Dropped=NaN_percent[NaN_percent['Percent']>20]\n",
    "column=Dropped.index\n",
    "column=list(column)\n",
    "\n"
   ]
  },
  {
   "cell_type": "code",
   "execution_count": 106,
   "metadata": {
    "collapsed": true
   },
   "outputs": [],
   "source": [
    "clean_data_df=data_df.drop(column, axis=1)\n"
   ]
  },
  {
   "cell_type": "code",
   "execution_count": 107,
   "metadata": {},
   "outputs": [
    {
     "data": {
      "text/html": [
       "<div>\n",
       "<style>\n",
       "    .dataframe thead tr:only-child th {\n",
       "        text-align: right;\n",
       "    }\n",
       "\n",
       "    .dataframe thead th {\n",
       "        text-align: left;\n",
       "    }\n",
       "\n",
       "    .dataframe tbody tr th {\n",
       "        vertical-align: top;\n",
       "    }\n",
       "</style>\n",
       "<table border=\"1\" class=\"dataframe\">\n",
       "  <thead>\n",
       "    <tr style=\"text-align: right;\">\n",
       "      <th></th>\n",
       "      <th>Total</th>\n",
       "      <th>Percent</th>\n",
       "    </tr>\n",
       "  </thead>\n",
       "  <tbody>\n",
       "    <tr>\n",
       "      <th>County_Burial</th>\n",
       "      <td>247</td>\n",
       "      <td>19.13</td>\n",
       "    </tr>\n",
       "    <tr>\n",
       "      <th>Married</th>\n",
       "      <td>243</td>\n",
       "      <td>18.82</td>\n",
       "    </tr>\n",
       "    <tr>\n",
       "      <th>No_of_Relatives</th>\n",
       "      <td>230</td>\n",
       "      <td>17.82</td>\n",
       "    </tr>\n",
       "    <tr>\n",
       "      <th>Significant_Relatives</th>\n",
       "      <td>208</td>\n",
       "      <td>16.11</td>\n",
       "    </tr>\n",
       "    <tr>\n",
       "      <th>Significant_Children</th>\n",
       "      <td>199</td>\n",
       "      <td>15.41</td>\n",
       "    </tr>\n",
       "    <tr>\n",
       "      <th>No_of_Children</th>\n",
       "      <td>198</td>\n",
       "      <td>15.34</td>\n",
       "    </tr>\n",
       "    <tr>\n",
       "      <th>Fundraising</th>\n",
       "      <td>149</td>\n",
       "      <td>11.54</td>\n",
       "    </tr>\n",
       "    <tr>\n",
       "      <th>Burial_Week</th>\n",
       "      <td>128</td>\n",
       "      <td>9.91</td>\n",
       "    </tr>\n",
       "    <tr>\n",
       "      <th>Burial_Day</th>\n",
       "      <td>128</td>\n",
       "      <td>9.91</td>\n",
       "    </tr>\n",
       "    <tr>\n",
       "      <th>Burial</th>\n",
       "      <td>127</td>\n",
       "      <td>9.84</td>\n",
       "    </tr>\n",
       "    <tr>\n",
       "      <th>Word_Count</th>\n",
       "      <td>54</td>\n",
       "      <td>4.18</td>\n",
       "    </tr>\n",
       "    <tr>\n",
       "      <th>Size</th>\n",
       "      <td>54</td>\n",
       "      <td>4.18</td>\n",
       "    </tr>\n",
       "    <tr>\n",
       "      <th>Death_to_Burial</th>\n",
       "      <td>47</td>\n",
       "      <td>3.64</td>\n",
       "    </tr>\n",
       "    <tr>\n",
       "      <th>Announcement</th>\n",
       "      <td>26</td>\n",
       "      <td>2.01</td>\n",
       "    </tr>\n",
       "    <tr>\n",
       "      <th>Announce_to_Burial</th>\n",
       "      <td>13</td>\n",
       "      <td>1.01</td>\n",
       "    </tr>\n",
       "    <tr>\n",
       "      <th>Color</th>\n",
       "      <td>2</td>\n",
       "      <td>0.15</td>\n",
       "    </tr>\n",
       "    <tr>\n",
       "      <th>Death_to_Announce</th>\n",
       "      <td>0</td>\n",
       "      <td>0.00</td>\n",
       "    </tr>\n",
       "    <tr>\n",
       "      <th>Gender</th>\n",
       "      <td>0</td>\n",
       "      <td>0.00</td>\n",
       "    </tr>\n",
       "    <tr>\n",
       "      <th>Name</th>\n",
       "      <td>0</td>\n",
       "      <td>0.00</td>\n",
       "    </tr>\n",
       "  </tbody>\n",
       "</table>\n",
       "</div>"
      ],
      "text/plain": [
       "                       Total  Percent\n",
       "County_Burial            247    19.13\n",
       "Married                  243    18.82\n",
       "No_of_Relatives          230    17.82\n",
       "Significant_Relatives    208    16.11\n",
       "Significant_Children     199    15.41\n",
       "No_of_Children           198    15.34\n",
       "Fundraising              149    11.54\n",
       "Burial_Week              128     9.91\n",
       "Burial_Day               128     9.91\n",
       "Burial                   127     9.84\n",
       "Word_Count                54     4.18\n",
       "Size                      54     4.18\n",
       "Death_to_Burial           47     3.64\n",
       "Announcement              26     2.01\n",
       "Announce_to_Burial        13     1.01\n",
       "Color                      2     0.15\n",
       "Death_to_Announce          0     0.00\n",
       "Gender                     0     0.00\n",
       "Name                       0     0.00"
      ]
     },
     "execution_count": 107,
     "metadata": {},
     "output_type": "execute_result"
    }
   ],
   "source": [
    "clean_NaN_percent =  get_NaN_percent(clean_data_df)\n",
    "clean_NaN_percent"
   ]
  },
  {
   "cell_type": "code",
   "execution_count": 108,
   "metadata": {},
   "outputs": [
    {
     "data": {
      "image/png": "[encoded data removed]",
      "text/plain": [
       "<matplotlib.figure.Figure at 0x7fc646856710>"
      ]
     },
     "metadata": {},
     "output_type": "display_data"
    }
   ],
   "source": [
    "clean_data_df=clean_data_df.dropna(subset=['Fundraising'])\n",
    "\n",
    "clean_NaN_percent =  get_NaN_percent(clean_data_df)\n",
    "clean_NaN_percent\n",
    "plott = clean_NaN_percent[['Percent']]\n",
    "\n",
    "index_ = np.arange(len(plott))\n",
    "plt.figure(figsize=(15,3))\n",
    "plt.bar(index_, plott.Percent)\n",
    "\n",
    "plt.xlabel('Features', fontsize=15)\n",
    "plt.ylabel('% of Data Missing', fontsize=15)\n",
    "plt.xticks(index_, plott.index, fontsize=10, rotation=30)\n",
    "plt.title('Missing Data ', fontsize=20)\n",
    "plt.show()"
   ]
  },
  {
   "cell_type": "code",
   "execution_count": 109,
   "metadata": {},
   "outputs": [
    {
     "data": {
      "text/html": [
       "<div>\n",
       "<style>\n",
       "    .dataframe thead tr:only-child th {\n",
       "        text-align: right;\n",
       "    }\n",
       "\n",
       "    .dataframe thead th {\n",
       "        text-align: left;\n",
       "    }\n",
       "\n",
       "    .dataframe tbody tr th {\n",
       "        vertical-align: top;\n",
       "    }\n",
       "</style>\n",
       "<table border=\"1\" class=\"dataframe\">\n",
       "  <thead>\n",
       "    <tr style=\"text-align: right;\">\n",
       "      <th></th>\n",
       "      <th>Percent</th>\n",
       "    </tr>\n",
       "  </thead>\n",
       "  <tbody>\n",
       "    <tr>\n",
       "      <th>County_Burial</th>\n",
       "      <td>9.19</td>\n",
       "    </tr>\n",
       "    <tr>\n",
       "      <th>Married</th>\n",
       "      <td>8.84</td>\n",
       "    </tr>\n",
       "    <tr>\n",
       "      <th>Burial_Day</th>\n",
       "      <td>8.41</td>\n",
       "    </tr>\n",
       "    <tr>\n",
       "      <th>Burial_Week</th>\n",
       "      <td>8.41</td>\n",
       "    </tr>\n",
       "    <tr>\n",
       "      <th>Burial</th>\n",
       "      <td>8.32</td>\n",
       "    </tr>\n",
       "    <tr>\n",
       "      <th>No_of_Relatives</th>\n",
       "      <td>7.36</td>\n",
       "    </tr>\n",
       "    <tr>\n",
       "      <th>Significant_Relatives</th>\n",
       "      <td>5.34</td>\n",
       "    </tr>\n",
       "    <tr>\n",
       "      <th>Significant_Children</th>\n",
       "      <td>4.82</td>\n",
       "    </tr>\n",
       "    <tr>\n",
       "      <th>No_of_Children</th>\n",
       "      <td>4.82</td>\n",
       "    </tr>\n",
       "    <tr>\n",
       "      <th>Death_to_Burial</th>\n",
       "      <td>2.80</td>\n",
       "    </tr>\n",
       "    <tr>\n",
       "      <th>Announcement</th>\n",
       "      <td>1.40</td>\n",
       "    </tr>\n",
       "    <tr>\n",
       "      <th>Announce_to_Burial</th>\n",
       "      <td>0.70</td>\n",
       "    </tr>\n",
       "    <tr>\n",
       "      <th>Color</th>\n",
       "      <td>0.18</td>\n",
       "    </tr>\n",
       "    <tr>\n",
       "      <th>Size</th>\n",
       "      <td>0.09</td>\n",
       "    </tr>\n",
       "    <tr>\n",
       "      <th>Fundraising</th>\n",
       "      <td>0.00</td>\n",
       "    </tr>\n",
       "    <tr>\n",
       "      <th>Word_Count</th>\n",
       "      <td>0.00</td>\n",
       "    </tr>\n",
       "    <tr>\n",
       "      <th>Gender</th>\n",
       "      <td>0.00</td>\n",
       "    </tr>\n",
       "    <tr>\n",
       "      <th>Death_to_Announce</th>\n",
       "      <td>0.00</td>\n",
       "    </tr>\n",
       "    <tr>\n",
       "      <th>Name</th>\n",
       "      <td>0.00</td>\n",
       "    </tr>\n",
       "  </tbody>\n",
       "</table>\n",
       "</div>"
      ],
      "text/plain": [
       "                       Percent\n",
       "County_Burial             9.19\n",
       "Married                   8.84\n",
       "Burial_Day                8.41\n",
       "Burial_Week               8.41\n",
       "Burial                    8.32\n",
       "No_of_Relatives           7.36\n",
       "Significant_Relatives     5.34\n",
       "Significant_Children      4.82\n",
       "No_of_Children            4.82\n",
       "Death_to_Burial           2.80\n",
       "Announcement              1.40\n",
       "Announce_to_Burial        0.70\n",
       "Color                     0.18\n",
       "Size                      0.09\n",
       "Fundraising               0.00\n",
       "Word_Count                0.00\n",
       "Gender                    0.00\n",
       "Death_to_Announce         0.00\n",
       "Name                      0.00"
      ]
     },
     "execution_count": 109,
     "metadata": {},
     "output_type": "execute_result"
    }
   ],
   "source": [
    "plott "
   ]
  },
  {
   "cell_type": "code",
   "execution_count": 110,
   "metadata": {},
   "outputs": [
    {
     "data": {
      "text/plain": [
       "1142"
      ]
     },
     "execution_count": 110,
     "metadata": {},
     "output_type": "execute_result"
    }
   ],
   "source": [
    "len(clean_data_df)"
   ]
  },
  {
   "cell_type": "code",
   "execution_count": 111,
   "metadata": {},
   "outputs": [
    {
     "name": "stdout",
     "output_type": "stream",
     "text": [
      "(929, 19)\n",
      "71.95972114639814\n"
     ]
    }
   ],
   "source": [
    "clean_data_df=clean_data_df.dropna()\n",
    "print(clean_data_df.shape)\n",
    "print(929/len(data_df)*100)\n"
   ]
  },
  {
   "cell_type": "code",
   "execution_count": 113,
   "metadata": {},
   "outputs": [
    {
     "name": "stdout",
     "output_type": "stream",
     "text": [
      "['Yes' 'No']\n"
     ]
    }
   ],
   "source": [
    "#Fundraising\n",
    "Fundraising= clean_data_df['Fundraising']\n",
    "print(Fundraising.unique())\n",
    "number = LabelEncoder()\n",
    "clean_data_df['Fundraising'] = number.fit_transform(clean_data_df['Fundraising'].astype('str'))"
   ]
  },
  {
   "cell_type": "code",
   "execution_count": 115,
   "metadata": {},
   "outputs": [
    {
     "data": {
      "image/png": "[encoded data removed]",
      "text/plain": [
       "<matplotlib.figure.Figure at 0x7fc64eaf9160>"
      ]
     },
     "metadata": {},
     "output_type": "display_data"
    }
   ],
   "source": [
    "pal = {\"Male\":\"green\", \"Female\":\"Pink\"}\n",
    "plt.subplots(figsize = (10,5))\n",
    "ax = sns.barplot(x = \"Gender\", \n",
    "            y = \"Fundraising\", \n",
    "            data=clean_data_df, \n",
    "            palette = pal,\n",
    "            linewidth=2 )\n",
    "plt.title(\"Fundraising/No Fundraising Gender Distribution\", fontsize = 15)\n",
    "plt.ylabel(\"% of Fundraising\", fontsize = 15)\n",
    "plt.xlabel(\"Gender\",fontsize = 15);\n",
    "plt.show()"
   ]
  },
  {
   "cell_type": "markdown",
   "metadata": {},
   "source": [
    "After dropping all the NaN values, we are left with <b>929</b> data points out off the <b>1291</b>, this is around <b>72%</b>"
   ]
  },
  {
   "cell_type": "markdown",
   "metadata": {},
   "source": [
    "### 2. Handling Categorical variables\n",
    "\n",
    "Most of the features are of categorical type stored as text values. We need to convert these to numericals to b used for modeling.<br>\n",
    "These features are:<br>\n",
    "1. County of Burial<br>\n",
    "2. Married<br>\n",
    "3. Gender<br>\n",
    "4. Color<br>\n",
    "5. Fundraising<br>\n",
    "6. Burial week<br>\n",
    "7. Burial Day<br>\n",
    "\n",
    "\n",
    "\n",
    "\n"
   ]
  },
  {
   "cell_type": "code",
   "execution_count": 28,
   "metadata": {},
   "outputs": [
    {
     "name": "stdout",
     "output_type": "stream",
     "text": [
      "39\n",
      "['Uasin Gishu' 'Tharaka Nithi' 'Nyandarua' 'Trans Nzioa' 'Meru' 'Nyamira'\n",
      " 'Nairobi' 'Bungoma' 'Bomet' 'Kisumu' \"Murang'a\" 'Embu' 'Kajiado'\n",
      " 'Tana River' 'Kakamega' 'Nyeri' 'Kiambu' 'Homa Bay' 'Busia' 'Migori'\n",
      " 'Taita Taveta' 'Vihiga' 'Kisii' 'Makueni' 'Siaya' 'Baringo' 'Machakos'\n",
      " 'Kitui' 'Kilifi' 'Nakuru' 'Nandi' 'Kirinyaga' 'Kericho' 'Elgeyo Marakwet'\n",
      " 'Laikipia' 'Narok' 'Abroad' 'Mombasa' 'Isiolo']\n"
     ]
    }
   ],
   "source": [
    "data_df_cleaned = clean_data_df\n",
    "# County of Burial \n",
    "county_of_burial= clean_data_df['County_Burial']\n",
    "\n",
    "\n",
    "# Duplicates for Siaya and kakamega\n",
    "county_of_burial.replace('siaya', 'Siaya', inplace=True)\n",
    "county_of_burial.replace('kakamega', 'Kakamega',inplace=True)\n",
    "\n",
    "print(len(county_of_burial.unique()))\n",
    "print(county_of_burial.unique())\n",
    "\n",
    "number = LabelEncoder()\n",
    "data_df_cleaned['County_Burial'] = number.fit_transform(clean_data_df['County_Burial'].astype('str'))"
   ]
  },
  {
   "cell_type": "code",
   "execution_count": null,
   "metadata": {},
   "outputs": [],
   "source": []
  },
  {
   "cell_type": "code",
   "execution_count": 29,
   "metadata": {},
   "outputs": [
    {
     "name": "stdout",
     "output_type": "stream",
     "text": [
      "['Yes' 'No']\n"
     ]
    }
   ],
   "source": [
    "# Married \n",
    "Married= clean_data_df['Married']\n",
    "\n",
    "Married.replace('yes', 'Yes', inplace=True)\n",
    "Married.replace('no', 'No',inplace=True)\n",
    "print(Married.unique())\n",
    "number = LabelEncoder()\n",
    "data_df_cleaned['Married'] = number.fit_transform(clean_data_df['Married'].astype('str'))\n"
   ]
  },
  {
   "cell_type": "code",
   "execution_count": 30,
   "metadata": {},
   "outputs": [
    {
     "name": "stdout",
     "output_type": "stream",
     "text": [
      "['Male' 'Female']\n"
     ]
    }
   ],
   "source": [
    "#Gender\n",
    "\n",
    "Gender= clean_data_df['Gender']\n",
    "print(Gender.unique())\n",
    "Gender_= pd.Categorical(Gender).codes\n",
    "data_df_cleaned['Gender']=Gender_\n"
   ]
  },
  {
   "cell_type": "code",
   "execution_count": 31,
   "metadata": {},
   "outputs": [
    {
     "name": "stdout",
     "output_type": "stream",
     "text": [
      "['Yes' 'No']\n"
     ]
    }
   ],
   "source": [
    "#Color \n",
    "Color= clean_data_df['Color']\n",
    "\n",
    "\n",
    "Color.replace('yes', 'Yes', inplace=True)\n",
    "Color.replace('no', 'No',inplace=True)\n",
    "print(Color.unique())\n",
    "\n",
    "number = LabelEncoder()\n",
    "data_df_cleaned['Color'] = number.fit_transform(clean_data_df['Color'].astype('str'))\n"
   ]
  },
  {
   "cell_type": "code",
   "execution_count": null,
   "metadata": {
    "collapsed": true
   },
   "outputs": [],
   "source": []
  },
  {
   "cell_type": "code",
   "execution_count": 32,
   "metadata": {},
   "outputs": [
    {
     "name": "stdout",
     "output_type": "stream",
     "text": [
      "['Yes' 'No']\n"
     ]
    }
   ],
   "source": [
    "#Fundraising\n",
    "Fundraising= clean_data_df['Fundraising']\n",
    "print(Fundraising.unique())\n",
    "number = LabelEncoder()\n",
    "data_df_cleaned['Fundraising'] = number.fit_transform(clean_data_df['Fundraising'].astype('str'))"
   ]
  },
  {
   "cell_type": "code",
   "execution_count": 33,
   "metadata": {},
   "outputs": [
    {
     "name": "stdout",
     "output_type": "stream",
     "text": [
      "['Weekday' 'Weekend']\n"
     ]
    }
   ],
   "source": [
    "#Burial Week\n",
    "\n",
    "Burial_Week= clean_data_df['Burial_Week']\n",
    "\n",
    "Burial_Week.replace('Weeekday', 'Weekday', inplace=True)\n",
    "Burial_Week.replace('weekday', 'Weekday',inplace=True)\n",
    "Burial_Week.replace('weekend', 'Weekend',inplace=True)\n",
    "\n",
    "print(Burial_Week.unique())\n",
    "number = LabelEncoder()\n",
    "data_df_cleaned['Burial_Week'] = number.fit_transform(clean_data_df['Burial_Week'].astype('str'))"
   ]
  },
  {
   "cell_type": "code",
   "execution_count": 34,
   "metadata": {},
   "outputs": [
    {
     "name": "stdout",
     "output_type": "stream",
     "text": [
      "['Friday' 'Saturday' 'Wednesday' 'Thursday' 'Tuesday' 'Monday' 'Sunday']\n"
     ]
    }
   ],
   "source": [
    "# Burial_Day\n",
    "clean_data_df['Burial_Day'].unique()\n",
    "\n",
    "Burial_Day= clean_data_df['Burial_Day']\n",
    "\n",
    "Burial_Day.replace('saturday', 'Saturday', inplace=True)\n",
    "\n",
    "print(Burial_Day.unique())\n",
    "number = LabelEncoder()\n",
    "data_df_cleaned['Burial_Day'] = number.fit_transform(clean_data_df['Burial_Day'].astype('str'))"
   ]
  },
  {
   "cell_type": "markdown",
   "metadata": {},
   "source": [
    "### 3 Convert dates from strings to Datetime type\n",
    "\n",
    "We have a couple date features which are in str type, I convert them to datetime type .<br>\n",
    "\n",
    "These features are:<br>\n",
    "1. Announcement<br>\n",
    "2. Burial<br>\n"
   ]
  },
  {
   "cell_type": "code",
   "execution_count": 35,
   "metadata": {
    "collapsed": true
   },
   "outputs": [],
   "source": [
    "import datetime\n",
    "def Convert_time(date):\n",
    "    date_str = '29/12/2017' # The date - 29 Dec 2017\n",
    "    format_str = '%m/%d/%Y' # The format\n",
    "    datetime_obj = datetime.datetime.strptime(date, format_str)\n",
    "    \n",
    "    return datetime_obj\n",
    "\n",
    "data_df_cleaned[data_df_cleaned['Announcement']=='`']\n",
    "\n",
    "data_df_cleaned=data_df_cleaned.drop([995,726,734,743])"
   ]
  },
  {
   "cell_type": "code",
   "execution_count": 36,
   "metadata": {
    "collapsed": true
   },
   "outputs": [],
   "source": [
    "\n",
    "\n",
    "data_df_cleaned['Announcement'] = data_df_cleaned['Announcement'].apply(lambda date: Convert_time(date))\n",
    "data_df_cleaned['Burial'] = data_df_cleaned['Burial'].apply(lambda date: Convert_time(date))"
   ]
  },
  {
   "cell_type": "code",
   "execution_count": 37,
   "metadata": {},
   "outputs": [
    {
     "data": {
      "text/html": [
       "<div>\n",
       "<style>\n",
       "    .dataframe thead tr:only-child th {\n",
       "        text-align: right;\n",
       "    }\n",
       "\n",
       "    .dataframe thead th {\n",
       "        text-align: left;\n",
       "    }\n",
       "\n",
       "    .dataframe tbody tr th {\n",
       "        vertical-align: top;\n",
       "    }\n",
       "</style>\n",
       "<table border=\"1\" class=\"dataframe\">\n",
       "  <thead>\n",
       "    <tr style=\"text-align: right;\">\n",
       "      <th></th>\n",
       "      <th>Name</th>\n",
       "      <th>Announcement</th>\n",
       "      <th>Burial</th>\n",
       "      <th>Burial_Day</th>\n",
       "      <th>Burial_Week</th>\n",
       "      <th>Gender</th>\n",
       "      <th>Color</th>\n",
       "      <th>Size</th>\n",
       "      <th>Word_Count</th>\n",
       "      <th>No_of_Children</th>\n",
       "      <th>Significant_Children</th>\n",
       "      <th>Significant_Relatives</th>\n",
       "      <th>Fundraising</th>\n",
       "      <th>Death_to_Announce</th>\n",
       "      <th>Death_to_Burial</th>\n",
       "      <th>Announce_to_Burial</th>\n",
       "      <th>No_of_Relatives</th>\n",
       "      <th>County_Burial</th>\n",
       "      <th>Married</th>\n",
       "    </tr>\n",
       "  </thead>\n",
       "  <tbody>\n",
       "    <tr>\n",
       "      <th>0</th>\n",
       "      <td>Eng. Paul Chemweno</td>\n",
       "      <td>2017-11-08 00:00:00</td>\n",
       "      <td>2017-11-17</td>\n",
       "      <td>0</td>\n",
       "      <td>0</td>\n",
       "      <td>1</td>\n",
       "      <td>1</td>\n",
       "      <td>55.18</td>\n",
       "      <td>179</td>\n",
       "      <td>7.0</td>\n",
       "      <td>0.0</td>\n",
       "      <td>0.0</td>\n",
       "      <td>1</td>\n",
       "      <td>6.00</td>\n",
       "      <td>15</td>\n",
       "      <td>9</td>\n",
       "      <td>35</td>\n",
       "      <td>37</td>\n",
       "      <td>1</td>\n",
       "    </tr>\n",
       "    <tr>\n",
       "      <th>1</th>\n",
       "      <td>Edith Kiende Kiogora</td>\n",
       "      <td>2017-11-08 00:00:00</td>\n",
       "      <td>2017-11-11</td>\n",
       "      <td>2</td>\n",
       "      <td>1</td>\n",
       "      <td>0</td>\n",
       "      <td>1</td>\n",
       "      <td>83.60</td>\n",
       "      <td>293</td>\n",
       "      <td>4.0</td>\n",
       "      <td>0.0</td>\n",
       "      <td>7.0</td>\n",
       "      <td>1</td>\n",
       "      <td>12.00</td>\n",
       "      <td>15</td>\n",
       "      <td>3</td>\n",
       "      <td>8</td>\n",
       "      <td>35</td>\n",
       "      <td>1</td>\n",
       "    </tr>\n",
       "  </tbody>\n",
       "</table>\n",
       "</div>"
      ],
      "text/plain": [
       "                   Name         Announcement     Burial  Burial_Day  \\\n",
       "0    Eng. Paul Chemweno  2017-11-08 00:00:00 2017-11-17           0   \n",
       "1  Edith Kiende Kiogora  2017-11-08 00:00:00 2017-11-11           2   \n",
       "\n",
       "   Burial_Week  Gender  Color   Size Word_Count  No_of_Children  \\\n",
       "0            0       1      1  55.18        179             7.0   \n",
       "1            1       0      1  83.60        293             4.0   \n",
       "\n",
       "   Significant_Children  Significant_Relatives  Fundraising Death_to_Announce  \\\n",
       "0                   0.0                    0.0            1              6.00   \n",
       "1                   0.0                    7.0            1             12.00   \n",
       "\n",
       "  Death_to_Burial Announce_to_Burial No_of_Relatives  County_Burial  Married  \n",
       "0              15                  9              35             37        1  \n",
       "1              15                  3               8             35        1  "
      ]
     },
     "execution_count": 37,
     "metadata": {},
     "output_type": "execute_result"
    }
   ],
   "source": [
    "data_df_cleaned.head(2)"
   ]
  },
  {
   "cell_type": "code",
   "execution_count": 38,
   "metadata": {
    "collapsed": true
   },
   "outputs": [],
   "source": [
    "\n",
    "#clean_data_df['Significant_Children']\n"
   ]
  },
  {
   "cell_type": "markdown",
   "metadata": {},
   "source": [
    "### 3 Cleaning the numeric data types\n",
    "\n",
    "We have a couple numeric features which we want to make sure are in the correct format for any modeling .<br>\n",
    "\n",
    "These features are:<br>\n",
    "1. Size<br>\n",
    "2. Word_Count<br>\n",
    "3. Significant_Relatives<br>\n",
    "4. Death_to_Announce<br>\n",
    "5. Death_to_Burial<br>\n",
    "6. Announce_to_Burial<br>\n",
    "7. No_of_Relatives<br>\n",
    "\n",
    "###### NB: Death_to_Announce and Death_to_Burial  has a very many incorrect inputs ie ''#VALUE!''..... so I will drop this column\n",
    "        \n"
   ]
  },
  {
   "cell_type": "code",
   "execution_count": 39,
   "metadata": {
    "collapsed": true
   },
   "outputs": [],
   "source": [
    "#data_df_cleaned=data_df_cleaned.dropna(subset=['Death_to_Announce','Death_to_Burial'])\n",
    "data_df_cleaned=data_df_cleaned.drop(['Death_to_Announce','Death_to_Burial'], axis=1)\n"
   ]
  },
  {
   "cell_type": "code",
   "execution_count": 40,
   "metadata": {},
   "outputs": [
    {
     "data": {
      "text/plain": [
       "dtype('int64')"
      ]
     },
     "execution_count": 40,
     "metadata": {},
     "output_type": "execute_result"
    }
   ],
   "source": [
    "\n",
    "# Size \n",
    "data_df_cleaned.Size.dtype\n",
    "\n",
    "#word_count\n",
    "data_df_cleaned.Word_Count.dtype\n",
    "data_df_cleaned['Word_Count'] = data_df_cleaned['Word_Count'].apply(lambda text: re.sub(',(?!\\s+\\d$)', '', text))\n",
    "\n",
    "data_df_cleaned['Word_Count'] = pd.to_numeric(data_df_cleaned.Word_Count)\n",
    "data_df_cleaned.Word_Count.dtype"
   ]
  },
  {
   "cell_type": "code",
   "execution_count": 41,
   "metadata": {},
   "outputs": [
    {
     "data": {
      "text/html": [
       "<div>\n",
       "<style>\n",
       "    .dataframe thead tr:only-child th {\n",
       "        text-align: right;\n",
       "    }\n",
       "\n",
       "    .dataframe thead th {\n",
       "        text-align: left;\n",
       "    }\n",
       "\n",
       "    .dataframe tbody tr th {\n",
       "        vertical-align: top;\n",
       "    }\n",
       "</style>\n",
       "<table border=\"1\" class=\"dataframe\">\n",
       "  <thead>\n",
       "    <tr style=\"text-align: right;\">\n",
       "      <th></th>\n",
       "      <th>Name</th>\n",
       "      <th>Announcement</th>\n",
       "      <th>Burial</th>\n",
       "      <th>Burial_Day</th>\n",
       "      <th>Burial_Week</th>\n",
       "      <th>Gender</th>\n",
       "      <th>Color</th>\n",
       "      <th>Size</th>\n",
       "      <th>Word_Count</th>\n",
       "      <th>No_of_Children</th>\n",
       "      <th>Significant_Children</th>\n",
       "      <th>Significant_Relatives</th>\n",
       "      <th>Fundraising</th>\n",
       "      <th>Announce_to_Burial</th>\n",
       "      <th>No_of_Relatives</th>\n",
       "      <th>County_Burial</th>\n",
       "      <th>Married</th>\n",
       "    </tr>\n",
       "  </thead>\n",
       "  <tbody>\n",
       "  </tbody>\n",
       "</table>\n",
       "</div>"
      ],
      "text/plain": [
       "Empty DataFrame\n",
       "Columns: [Name, Announcement, Burial, Burial_Day, Burial_Week, Gender, Color, Size, Word_Count, No_of_Children, Significant_Children, Significant_Relatives, Fundraising, Announce_to_Burial, No_of_Relatives, County_Burial, Married]\n",
       "Index: []"
      ]
     },
     "execution_count": 41,
     "metadata": {},
     "output_type": "execute_result"
    }
   ],
   "source": [
    "#Significant_Relatives\n",
    "data_df_cleaned.Significant_Relatives.dtype\n",
    "\n",
    "#No_of_Relatives\n",
    "\n",
    "data_df_cleaned['No_of_Relatives'] = pd.to_numeric(data_df_cleaned.No_of_Relatives)\n",
    "\n",
    "data_df_cleaned.No_of_Relatives.dtype\n",
    "\n",
    "#Announce_to_Burial\n",
    "data_df_cleaned['Announce_to_Burial'] = data_df_cleaned['Announce_to_Burial'].apply(lambda text: re.sub(',(?!\\s+\\d$)', '', text))\n",
    "\n",
    "#data_df_cleaned['Announce_to_Burial'] = pd.to_numeric(data_df_cleaned.Announce_to_Burial)\n",
    "data_df_cleaned[data_df_cleaned['Announce_to_Burial']==\"#VALUE!\"]"
   ]
  },
  {
   "cell_type": "code",
   "execution_count": 42,
   "metadata": {},
   "outputs": [
    {
     "data": {
      "text/plain": [
       "(925, 17)"
      ]
     },
     "execution_count": 42,
     "metadata": {},
     "output_type": "execute_result"
    }
   ],
   "source": [
    "\n",
    "\n",
    "data_df_cleaned.reset_index(drop=True, inplace=True)\n",
    "data_df_cleaned.shape"
   ]
  },
  {
   "cell_type": "code",
   "execution_count": 43,
   "metadata": {
    "collapsed": true
   },
   "outputs": [],
   "source": [
    "#save to csv\n",
    "data_df_cleaned.to_csv('cleaned_data.csv')\n"
   ]
  },
  {
   "cell_type": "markdown",
   "metadata": {},
   "source": [
    "\n",
    "#### Assumptions\n",
    "1. Anything in the Announce_to_Burial date of between of above 1000 and below 0 is treated as an outlier and dropped in the \n",
    "calculation of the survival curve\n"
   ]
  },
  {
   "cell_type": "code",
   "execution_count": null,
   "metadata": {
    "collapsed": true
   },
   "outputs": [],
   "source": []
  },
  {
   "cell_type": "code",
   "execution_count": null,
   "metadata": {
    "collapsed": true
   },
   "outputs": [],
   "source": []
  },
  {
   "cell_type": "code",
   "execution_count": null,
   "metadata": {
    "collapsed": true
   },
   "outputs": [],
   "source": []
  }
 ],
 "metadata": {
  "kernelspec": {
   "display_name": "Python 3",
   "language": "python",
   "name": "python3"
  },
  "language_info": {
   "codemirror_mode": {
    "name": "ipython",
    "version": 3
   },
   "file_extension": ".py",
   "mimetype": "text/x-python",
   "name": "python",
   "nbconvert_exporter": "python",
   "pygments_lexer": "ipython3",
   "version": "3.6.3"
  }
 },
 "nbformat": 4,
 "nbformat_minor": 2
}
